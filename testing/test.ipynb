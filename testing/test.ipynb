{
 "cells": [
  {
   "cell_type": "code",
   "execution_count": 1,
   "metadata": {},
   "outputs": [],
   "source": [
    "from redcom_API import *\n"
   ]
  },
  {
   "cell_type": "code",
   "execution_count": 2,
   "metadata": {},
   "outputs": [],
   "source": [
    "from app import *"
   ]
  },
  {
   "cell_type": "code",
   "execution_count": 3,
   "metadata": {},
   "outputs": [
    {
     "name": "stdout",
     "output_type": "stream",
     "text": [
      "Generating docs for python import: redcom_API\n",
      "Writing redcom_API.md.\n",
      "Generating docs for python import: app\n",
      "Writing app.md.\n",
      "Writing README.md.\n",
      "Writing mkdocs .pages file.\n"
     ]
    }
   ],
   "source": [
    "import lazydocs\n",
    "\n",
    "lazydocs.generate_docs([\"redcom_API\", \"app\"], output_path=\"./docs/\", overview_file=\"README.md\")"
   ]
  },
  {
   "cell_type": "code",
   "execution_count": null,
   "metadata": {},
   "outputs": [],
   "source": [
    "def test():\n",
    "    # pid_list = [25,19]\n",
    "    # pid_list = [129, 146, 151]\n",
    "    # check_for_all_outlier_and_missing(pid_list)\n",
    "    # check_for_all_missing(pid_list)\n",
    "    \n",
    "    # # redcap_data = {'log_event_id': 1530, 'project_id': 25, 'ts': 20241209182024, 'user': 'dgandh03', 'ip': '192.168.9.56', 'page': 'DataEntry/index.php', 'event': 'UPDATE', 'object_type': 'redcap_data', 'sql_log': \"UPDATE redcap_data4 SET value = '29' WHERE project_id = 25 AND record = '42964' AND event_id = 414 AND field_name = 'v_pulse' AND instance is NULL;\\nDELETE FROM redcap_data4 WHERE project_id = 25 AND record = '42964' AND event_id = 414 AND field_name = 'v_resp' AND instance is NULL;\\nDELETE FROM redcap_data4 WHERE project_id = 25 AND record = '42964' AND event_id = 414 AND field_name = 'v_bp_sys' AND instance is NULL\", 'pk': '42964', 'event_id': 414, 'data_values': \"v_pulse = '29',\\nv_resp = '',\\nv_bp_sys = ''\", 'description': 'Update record', 'legacy': 0, 'change_reason': None}\n",
    "    # # operate_quality_control(redcap_data)\n",
    "\n",
    "    # pid_list = [25,19]\n",
    "    pid_list = [129, 146, 151]\n",
    "    production_mode = False\n",
    "    check_last_run()\n",
    "    if production_mode:\n",
    "            send_periodic_email()\n",
    "    with open('stored_data/last_routine.log', 'w') as file:\n",
    "        file.write(f\"{datetime.datetime.now().strftime('%Y-%m-%d %H:%M:%S')}\")\n",
    "    # check_for_all_missing(pid_list, production_mode = production_mode, ping = False)\n",
    "    # filter_missing_forms(pid_list, ping = False, production_mode = production_mode)\n",
    "    check_for_all_outlier_and_missing(pid_list, production_mode = production_mode, ping = False)\n",
    "    # check_for_all_outliers(pid_list, production_mode = production_mode, ping = False)\n",
    "\n",
    "    # submit_stored_drw_entries(production_mode = production_mode)\n",
    "    return None\n",
    "\n",
    "\n"
   ]
  },
  {
   "cell_type": "code",
   "execution_count": null,
   "metadata": {},
   "outputs": [],
   "source": [
    "test()\n",
    "submit_stored_drw_entries(production_mode = False)"
   ]
  },
  {
   "cell_type": "code",
   "execution_count": null,
   "metadata": {},
   "outputs": [],
   "source": [
    "# conn = connect_to_maria(maria_host='rctest.hnrc.tufts.edu')\n",
    "# cmd = \"delete from redcap_data_quality_status    where status_id > 0\"\n",
    "# execute_maria_cmd(conn, cmd)\n",
    "# cmd = \"delete from redcap_messages     where message_id > 0\"\n",
    "# execute_maria_cmd(conn, cmd)\n",
    "# cmd = \"delete from redcap_data_quality_resolutions    where res_id > 0\"\n",
    "# execute_maria_cmd(conn, cmd)\n",
    "# cmd = \"delete from redcap_messages_threads     where thread_id > 3\"\n",
    "# execute_maria_cmd(conn, cmd)\n",
    "\n",
    "\n",
    "\n",
    "# # cmd = \"delete from redcap_projects      where project_id = 24\"\n",
    "# # execute_maria_cmd(conn, cmd)\n",
    "# # cmd = \"delete from redcap_events_arms     where arm_id > 17\"\n",
    "# # execute_maria_cmd(conn, cmd)\n",
    "# # cmd = \"delete from redcap_events_metadata      where event_id > 43\"\n",
    "# # execute_maria_cmd(conn, cmd)\n",
    "# # cmd = \"ALTER TABLE redcap_data_quality_status AUTO_INCREMENT=1\"\n",
    "# # execute_maria_cmd(conn, cmd)\n",
    "# # cmd = \"ALTER TABLE redcap_projects AUTO_INCREMENT=17\"\n",
    "# # execute_maria_cmd(conn, cmd)\n",
    "# # cmd = \"ALTER TABLE redcap_events_arms AUTO_INCREMENT=17\"\n",
    "# # execute_maria_cmd(conn, cmd)\n",
    "# # cmd = \"ALTER TABLE redcap_events_metadata AUTO_INCREMENT=43\"\n",
    "# # execute_maria_cmd(conn, cmd)\n",
    "\n",
    "# # for i in range(2, 13):\n",
    "# #     cmd = f\"delete from redcap_log_event{i}    where project_id > 16\"\n",
    "# #     execute_maria_cmd(conn, cmd)\n",
    "\n",
    "\n",
    "\n",
    "# # create_necessary_triggers(conn)\n",
    "# conn.commit()\n",
    "# conn.close()"
   ]
  },
  {
   "cell_type": "code",
   "execution_count": null,
   "metadata": {},
   "outputs": [],
   "source": [
    "# conn = connect_to_maria(maria_host='redcap.hnrc.tufts.edu')\n",
    "\n",
    "# triggers = retrieve_database_table(['information_schema.triggers'])\n",
    "# sql_comm = \"select distinct TRIGGER_NAME from information_schema.triggers\"\n",
    "# sql_comm = \"drop trigger  redcap_data6_update;\"\n",
    "# res = execute_maria_cmd(conn, sql_comm)\n",
    "# conn.close()\n",
    "# triggers\n",
    "# res"
   ]
  },
  {
   "cell_type": "code",
   "execution_count": null,
   "metadata": {},
   "outputs": [],
   "source": [
    "# conn = connect_to_maria()\n",
    "# cmd = \"UPDATE redcap_record_list SET dag_id = NULL WHERE project_id = 18;\"\n",
    "# execute_maria_cmd(conn, cmd)\n",
    "\n",
    "# conn.commit()\n",
    "# conn.close()"
   ]
  },
  {
   "cell_type": "code",
   "execution_count": null,
   "metadata": {},
   "outputs": [],
   "source": [
    "# js1 = {'log_event_id': 862, 'project_id': 18, 'ts': 20241022163343, 'user': 'test03redcom', 'ip': '192.168.9.56', 'page': 'DataEntry/index.php', 'event': 'UPDATE', 'object_type': 'redcap_data', 'sql_log': \"INSERT INTO redcap_data (project_id, event_id, record, field_name, value, instance) VALUES (18, 332, '34247', 'whr_measurer', '142536', NULL);\\nINSERT INTO redcap_data (project_id, event_id, record, field_name, value, instance) VALUES (18, 332, '34247', 'whr_waist1', '12540', NULL);\\nINSERT INTO redcap_data (project_id, event_id, record, field_name, value, instance) VALUES (18, 332, '34247', 'whr_waist2', '852410', NULL);\\nINSERT INTO redcap_data (project_id, event_id, record, field_name, value, instance) VALUES (18, 332, '34247', 'whr_waist3', '41253', NULL);\\nINSERT INTO redcap_data (project_id, event_id, record, field_name, value, instance) VALUES (18, 332, '34247', 'whr_waist_mean', '302067.67', NULL);\\nINSERT INTO redcap_data (project_id, event_id, record, field_name, value, instance) VALUES (18, 332, '34247', 'whr_hip1', '9652', NULL);\\nINSERT INTO redcap_data (project_id, event_id, record, field_name, value, instance) VALUES (18, 332, '34247', 'whr_hip2', '7425', NULL);\\nINSERT INTO redcap_data (project_id, event_id, record, field_name, value, instance) VALUES (18, 332, '34247', 'whr_hip3', '6320', NULL);\\nINSERT INTO redcap_data (project_id, event_id, record, field_name, value, instance) VALUES (18, 332, '34247', 'whr_hip_mean', '7799', NULL);\\nINSERT INTO redcap_data (project_id, event_id, record, field_name, value, instance) VALUES (18, 332, '34247', 'whr_ratio', '38.73', NULL);\\nINSERT INTO redcap_data (project_id, event_id, record, field_name, value, instance) VALUES (18, 332, '34247', 'waist_to_hip_ratio_complete', '0', NULL);\\nINSERT INTO redcap_data (project_id, event_id, record, field_name, value, instance) VALUES (18, 332, '34247', 'hnrcid', '34247', NULL)\", 'pk': '34247', 'event_id': 332, 'data_values': \"whr_measurer = '142536',\\nwhr_waist1 = '12540',\\nwhr_waist2 = '852410',\\nwhr_waist3 = '41253',\\nwhr_waist_mean = '302067.67',\\nwhr_hip1 = '9652',\\nwhr_hip2 = '7425',\\nwhr_hip3 = '6320',\\nwhr_hip_mean = '7799',\\nwhr_ratio = '38.73',\\nwaist_to_hip_ratio_complete = '0',\\nhnrcid = '34247'\", 'description': 'Update record', 'legacy': 0, 'change_reason': None}\n",
    "# operate_quality_control(js1)"
   ]
  },
  {
   "cell_type": "code",
   "execution_count": null,
   "metadata": {},
   "outputs": [],
   "source": [
    "# redcap_data = {'log_event_id': 'test1', 'project_id': 20, 'ts': 'test_ts', 'user': 'test_user', 'ip': 'test_ip', 'page': 'test_page', 'event': 'test_event', 'object_type': 'test_object_type', 'sql_log': 'test_sql_log', 'pk': 'test_pk', 'event_id': 'test_event_id', 'data_values': 'test_data_values', 'description': 'test_description', 'legacy': 'test_legacy', 'change_reason': 'test_change_reason'}\n",
    "# operate_quality_control_individual(redcap_data)"
   ]
  },
  {
   "cell_type": "code",
   "execution_count": null,
   "metadata": {},
   "outputs": [],
   "source": [
    "#  from flask_apscheduler import APScheduler\n",
    "#  scheduler = APScheduler()\n",
    "\n",
    "# @scheduler.task('interval', id='check_last_run', minutes=20)\n",
    "# def check_last_run():\n",
    "    \n",
    "#     with open('data_dictionaries/last_interval.log', 'r') as file:\n",
    "#         file_contents = file.read()\n",
    "    \n",
    "#     timestamp = datetime.datetime.strptime(file_contents, '%Y-%m-%d %H:%M:%S')\n",
    "#     time_diff = datetime.datetime.now() - timestamp\n",
    "\n",
    "#     if time_diff > datetime.timedelta(hours=6):\n",
    "#         thread_em = threading.Thread(target=send_email, kwargs={'message': 'Last run was more than 6 hours ago. Please check the server.'})\n",
    "#         thread_em.start()\n",
    "#     logging.info(\"Time since last run: \" + str(time_diff))\n",
    "#     return None\n",
    "\n",
    "# @scheduler.task('interval', id='interval_task', minutes=5)\n",
    "# def interval_task():\n",
    "#     thread_em = threading.Thread(target=send_email, kwargs={'message': 'Interval task 1 began...', 'recipient_emails': ['dhruv.gandhi@tufts.edu']})\n",
    "#     thread_em.start()\n",
    "#     logging.info(\"Running send_email task...\")\n",
    "#     with open('data_dictionaries/last_interval.log', 'w') as file:\n",
    "#         file.write(f\"{datetime.datetime.now().strftime('%Y-%m-%d %H:%M:%S')}\")\n",
    "#     thread_bg = threading.Thread(target=background_trigger_creation)\n",
    "#     thread_bg.start()\n",
    "#     logging.info(\"Running background_trigger_creation task...\")\n",
    "#     thread_dd = threading.Thread(target=store_data_dictionary)\n",
    "#     thread_dd.start()\n",
    "#     logging.info(\"Running store_data_dictionary task...\")\n",
    "#     thread_comp = threading.Thread(target=check_for_all_missing, kwargs={'pid_list': [18, 19]})\n",
    "#     thread_comp.start()\n",
    "#     logging.info(\"Running check_for_all_missing task...\")\n",
    "\n",
    "#     logging.info(\"Finished periodic update triggers task...\")\n",
    "#     return None\n",
    "\n",
    "# scheduler.init_app(app)\n",
    "# scheduler.start()"
   ]
  },
  {
   "cell_type": "code",
   "execution_count": null,
   "metadata": {},
   "outputs": [],
   "source": []
  }
 ],
 "metadata": {
  "kernelspec": {
   "display_name": "base",
   "language": "python",
   "name": "python3"
  },
  "language_info": {
   "codemirror_mode": {
    "name": "ipython",
    "version": 3
   },
   "file_extension": ".py",
   "mimetype": "text/x-python",
   "name": "python",
   "nbconvert_exporter": "python",
   "pygments_lexer": "ipython3",
   "version": "3.9.7"
  }
 },
 "nbformat": 4,
 "nbformat_minor": 2
}
