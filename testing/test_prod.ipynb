{
 "cells": [
  {
   "cell_type": "code",
   "execution_count": 1,
   "metadata": {},
   "outputs": [],
   "source": [
    "from redcom_API import *"
   ]
  },
  {
   "cell_type": "code",
   "execution_count": 2,
   "metadata": {},
   "outputs": [
    {
     "data": {
      "text/html": [
       "<div>\n",
       "<style scoped>\n",
       "    .dataframe tbody tr th:only-of-type {\n",
       "        vertical-align: middle;\n",
       "    }\n",
       "\n",
       "    .dataframe tbody tr th {\n",
       "        vertical-align: top;\n",
       "    }\n",
       "\n",
       "    .dataframe thead th {\n",
       "        text-align: right;\n",
       "    }\n",
       "</style>\n",
       "<table border=\"1\" class=\"dataframe\">\n",
       "  <thead>\n",
       "    <tr style=\"text-align: right;\">\n",
       "      <th></th>\n",
       "      <th>project_id</th>\n",
       "      <th>event_id</th>\n",
       "      <th>record</th>\n",
       "      <th>field_name</th>\n",
       "      <th>value</th>\n",
       "      <th>instance</th>\n",
       "    </tr>\n",
       "  </thead>\n",
       "  <tbody>\n",
       "  </tbody>\n",
       "</table>\n",
       "</div>"
      ],
      "text/plain": [
       "Empty DataFrame\n",
       "Columns: [project_id, event_id, record, field_name, value, instance]\n",
       "Index: []"
      ]
     },
     "execution_count": 2,
     "metadata": {},
     "output_type": "execute_result"
    }
   ],
   "source": [
    "table_data = retrieve_database_table(['redcap_data'])\n",
    "redcap_data = table_data['redcap_data']\n",
    "redcap_data = redcap_data[redcap_data['record'].str.isnumeric()]\n",
    "redcap_data"
   ]
  },
  {
   "cell_type": "code",
   "execution_count": 27,
   "metadata": {},
   "outputs": [],
   "source": [
    "import json"
   ]
  },
  {
   "cell_type": "code",
   "execution_count": null,
   "metadata": {},
   "outputs": [],
   "source": [
    "conn = connect_to_maria(maria_host='redcap.hnrc.tufts.edu')\n",
    "sql_comm = \"select * from redcap_log_event7 where object_type in ('redcap_data_quality_resolutions') and page in ('DataQuality/field_comment_log_edit_delete_ajax.php') and log_event_id in ('38843','38842') order by log_event_id desc\"\n",
    "log_ids = pd.DataFrame(execute_maria_cmd(conn, sql_comm))\n",
    "conn.close()\n",
    "\n"
   ]
  },
  {
   "cell_type": "code",
   "execution_count": 35,
   "metadata": {},
   "outputs": [],
   "source": [
    "res_table_vals = list(log_ids[11])\n",
    "res_list = []\n",
    "for i in res_table_vals:\n",
    "    res_list.append(json.loads(i))"
   ]
  },
  {
   "cell_type": "code",
   "execution_count": 36,
   "metadata": {},
   "outputs": [
    {
     "data": {
      "text/plain": [
       "[{'res_id': '3605',\n",
       "  'record': '2344',\n",
       "  'event_id': '769',\n",
       "  'field': 'tp_treattype',\n",
       "  'comment': 'was chemo/io before consent, switched to maintenance after 4 cycles of carbo/etop'},\n",
       " {'res_id': '3264',\n",
       "  'record': '2344',\n",
       "  'event_id': '769',\n",
       "  'field': 'tp_regimen',\n",
       "  'comment': 'note that since consent, patient is only on maintenance atezo, stopped carbo and etop prior to consent '}]"
      ]
     },
     "execution_count": 36,
     "metadata": {},
     "output_type": "execute_result"
    }
   ],
   "source": [
    "res_list"
   ]
  },
  {
   "cell_type": "code",
   "execution_count": null,
   "metadata": {},
   "outputs": [
    {
     "name": "stdout",
     "output_type": "stream",
     "text": [
      "update redcap_data_quality_resolutions set comment = 'was chemo/io before consent, switched to maintenance after 4 cycles of carbo/etop' where res_id = 3605;\n",
      "update redcap_data_quality_resolutions set comment = 'note that since consent, patient is only on maintenance atezo, stopped carbo and etop prior to consent ' where res_id = 3264;\n"
     ]
    }
   ],
   "source": [
    "conn = connect_to_maria(maria_host='redcap.hnrc.tufts.edu')\n",
    "for i in res_list:\n",
    "    sql_comm = f\"update redcap_data_quality_resolutions set comment = '{i['comment']}' where res_id = {i['res_id']};\"\n",
    "    print(sql_comm)\n",
    "    execute_maria_cmd(conn, sql_comm)\n",
    "\n",
    "# conn.commit()\n",
    "conn.close()"
   ]
  },
  {
   "cell_type": "code",
   "execution_count": null,
   "metadata": {},
   "outputs": [],
   "source": []
  }
 ],
 "metadata": {
  "kernelspec": {
   "display_name": "base",
   "language": "python",
   "name": "python3"
  },
  "language_info": {
   "codemirror_mode": {
    "name": "ipython",
    "version": 3
   },
   "file_extension": ".py",
   "mimetype": "text/x-python",
   "name": "python",
   "nbconvert_exporter": "python",
   "pygments_lexer": "ipython3",
   "version": "3.9.7"
  }
 },
 "nbformat": 4,
 "nbformat_minor": 2
}
